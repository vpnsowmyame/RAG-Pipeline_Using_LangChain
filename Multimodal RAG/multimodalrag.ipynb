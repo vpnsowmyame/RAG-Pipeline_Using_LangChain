{
 "cells": [
  {
   "cell_type": "code",
   "execution_count": 2,
   "id": "a2d4d5f8",
   "metadata": {},
   "outputs": [
    {
     "name": "stderr",
     "output_type": "stream",
     "text": [
      "c:\\Users\\Win 11\\Desktop\\RAG Pipeline\\.venv\\Lib\\site-packages\\tqdm\\auto.py:21: TqdmWarning: IProgress not found. Please update jupyter and ipywidgets. See https://ipywidgets.readthedocs.io/en/stable/user_install.html\n",
      "  from .autonotebook import tqdm as notebook_tqdm\n"
     ]
    }
   ],
   "source": [
    "import fitz  # PyMuPDF\\n\",\n",
    "from langchain_core.documents import Document\n",
    "from transformers import CLIPProcessor, CLIPModel\n",
    "from PIL import Image\n",
    "import torch\n",
    "import numpy as np\n",
    "from langchain.chat_models import init_chat_model\n",
    "from langchain.prompts import PromptTemplate\n",
    "from langchain.schema.messages import HumanMessage\n",
    "from sklearn.metrics.pairwise import cosine_similarity\n",
    "import os\n",
    "import base64\n",
    "import io\n",
    "from langchain.text_splitter import RecursiveCharacterTextSplitter\n",
    "from langchain_community.vectorstores import FAISS"
   ]
  },
  {
   "cell_type": "code",
   "execution_count": 3,
   "id": "30430543",
   "metadata": {},
   "outputs": [
    {
     "name": "stderr",
     "output_type": "stream",
     "text": [
      "c:\\Users\\Win 11\\Desktop\\RAG Pipeline\\.venv\\Lib\\site-packages\\huggingface_hub\\file_download.py:143: UserWarning: `huggingface_hub` cache-system uses symlinks by default to efficiently store duplicated files but your machine does not support them in C:\\Users\\Win 11\\.cache\\huggingface\\hub\\models--openai--clip-vit-base-patch32. Caching files will still work but in a degraded version that might require more space on your disk. This warning can be disabled by setting the `HF_HUB_DISABLE_SYMLINKS_WARNING` environment variable. For more details, see https://huggingface.co/docs/huggingface_hub/how-to-cache#limitations.\n",
      "To support symlinks on Windows, you either need to activate Developer Mode or to run Python as an administrator. In order to activate developer mode, see this article: https://docs.microsoft.com/en-us/windows/apps/get-started/enable-your-device-for-development\n",
      "  warnings.warn(message)\n",
      "Xet Storage is enabled for this repo, but the 'hf_xet' package is not installed. Falling back to regular HTTP download. For better performance, install the package with: `pip install huggingface_hub[hf_xet]` or `pip install hf_xet`\n",
      "Using a slow image processor as `use_fast` is unset and a slow processor was saved with this model. `use_fast=True` will be the default behavior in v4.52, even if the model was saved with a slow processor. This will result in minor differences in outputs. You'll still be able to use a slow processor with `use_fast=False`.\n",
      "Xet Storage is enabled for this repo, but the 'hf_xet' package is not installed. Falling back to regular HTTP download. For better performance, install the package with: `pip install huggingface_hub[hf_xet]` or `pip install hf_xet`\n"
     ]
    },
    {
     "data": {
      "text/plain": [
       "CLIPModel(\n",
       "  (text_model): CLIPTextTransformer(\n",
       "    (embeddings): CLIPTextEmbeddings(\n",
       "      (token_embedding): Embedding(49408, 512)\n",
       "      (position_embedding): Embedding(77, 512)\n",
       "    )\n",
       "    (encoder): CLIPEncoder(\n",
       "      (layers): ModuleList(\n",
       "        (0-11): 12 x CLIPEncoderLayer(\n",
       "          (self_attn): CLIPAttention(\n",
       "            (k_proj): Linear(in_features=512, out_features=512, bias=True)\n",
       "            (v_proj): Linear(in_features=512, out_features=512, bias=True)\n",
       "            (q_proj): Linear(in_features=512, out_features=512, bias=True)\n",
       "            (out_proj): Linear(in_features=512, out_features=512, bias=True)\n",
       "          )\n",
       "          (layer_norm1): LayerNorm((512,), eps=1e-05, elementwise_affine=True)\n",
       "          (mlp): CLIPMLP(\n",
       "            (activation_fn): QuickGELUActivation()\n",
       "            (fc1): Linear(in_features=512, out_features=2048, bias=True)\n",
       "            (fc2): Linear(in_features=2048, out_features=512, bias=True)\n",
       "          )\n",
       "          (layer_norm2): LayerNorm((512,), eps=1e-05, elementwise_affine=True)\n",
       "        )\n",
       "      )\n",
       "    )\n",
       "    (final_layer_norm): LayerNorm((512,), eps=1e-05, elementwise_affine=True)\n",
       "  )\n",
       "  (vision_model): CLIPVisionTransformer(\n",
       "    (embeddings): CLIPVisionEmbeddings(\n",
       "      (patch_embedding): Conv2d(3, 768, kernel_size=(32, 32), stride=(32, 32), bias=False)\n",
       "      (position_embedding): Embedding(50, 768)\n",
       "    )\n",
       "    (pre_layrnorm): LayerNorm((768,), eps=1e-05, elementwise_affine=True)\n",
       "    (encoder): CLIPEncoder(\n",
       "      (layers): ModuleList(\n",
       "        (0-11): 12 x CLIPEncoderLayer(\n",
       "          (self_attn): CLIPAttention(\n",
       "            (k_proj): Linear(in_features=768, out_features=768, bias=True)\n",
       "            (v_proj): Linear(in_features=768, out_features=768, bias=True)\n",
       "            (q_proj): Linear(in_features=768, out_features=768, bias=True)\n",
       "            (out_proj): Linear(in_features=768, out_features=768, bias=True)\n",
       "          )\n",
       "          (layer_norm1): LayerNorm((768,), eps=1e-05, elementwise_affine=True)\n",
       "          (mlp): CLIPMLP(\n",
       "            (activation_fn): QuickGELUActivation()\n",
       "            (fc1): Linear(in_features=768, out_features=3072, bias=True)\n",
       "            (fc2): Linear(in_features=3072, out_features=768, bias=True)\n",
       "          )\n",
       "          (layer_norm2): LayerNorm((768,), eps=1e-05, elementwise_affine=True)\n",
       "        )\n",
       "      )\n",
       "    )\n",
       "    (post_layernorm): LayerNorm((768,), eps=1e-05, elementwise_affine=True)\n",
       "  )\n",
       "  (visual_projection): Linear(in_features=768, out_features=512, bias=False)\n",
       "  (text_projection): Linear(in_features=512, out_features=512, bias=False)\n",
       ")"
      ]
     },
     "execution_count": 3,
     "metadata": {},
     "output_type": "execute_result"
    }
   ],
   "source": [
    "###Clip Model\n",
    "import os\n",
    "from dotenv import load_dotenv\n",
    "load_dotenv()\n",
    "## set up the environment\n",
    "os.environ[\"OPENAI_API_KEY\"]=os.getenv(\"OPENAI_API_KEY\")\n",
    "### initialize the Clip Model for unified embeddings\\n\",\n",
    "clip_model=CLIPModel.from_pretrained(\"openai/clip-vit-base-patch32\")\n",
    "clip_processor=CLIPProcessor.from_pretrained(\"openai/clip-vit-base-patch32\")\n",
    "clip_model.eval()"
   ]
  },
  {
   "cell_type": "code",
   "execution_count": 4,
   "id": "0282f0fd",
   "metadata": {},
   "outputs": [],
   "source": [
    "### Embedding functions\n",
    "def embed_image(image_data):\n",
    "        \"\"\"Embed image using CLIP\"\"\"\n",
    "        if isinstance(image_data, str):  # If path\\n\",\n",
    "            image = Image.open(image_data).convert(\"RGB\")\n",
    "        else:  # If PIL Image\\n\",\n",
    "            image = image_data\n",
    "        inputs=clip_processor(images=image,return_tensors=\"pt\")\n",
    "        with torch.no_grad():\n",
    "            features = clip_model.get_image_features(**inputs)\n",
    "            # Normalize embeddings to unit vector\\n\",\n",
    "            features = features / features.norm(dim=-1, keepdim=True)\n",
    "            return features.squeeze().numpy()\n",
    "def embed_text(text):\n",
    "        \"\"\"Embed text using CLIP.\"\"\"\n",
    "        inputs = clip_processor(\n",
    "            text=text, \n",
    "            return_tensors=\"pt\",\n",
    "            padding=True,\n",
    "            truncation=True,\n",
    "            max_length=77  # CLIP's max token length\\n\",\n",
    "        )\n",
    "        with torch.no_grad():\n",
    "            features = clip_model.get_text_features(**inputs)\n",
    "            # Normalize embeddings\\n\",\n",
    "            features = features / features.norm(dim=-1, keepdim=True)\n",
    "            return features.squeeze().numpy()"
   ]
  },
  {
   "cell_type": "code",
   "execution_count": 13,
   "id": "381b6f4b",
   "metadata": {},
   "outputs": [],
   "source": [
    "## Process PDF\\n\",\n",
    "pdf_path=\"multimodal_sample.pdf\"\n",
    "doc=fitz.open(pdf_path)\n",
    "# Storage for all documents and embeddings\n",
    "all_docs = []\n",
    "all_embeddings = []\n",
    "image_data_store = {}  # Store actual image data for LLM\\n\",\n",
    "# Text splitter\n",
    "splitter = RecursiveCharacterTextSplitter(chunk_size=500, chunk_overlap=100)"
   ]
  },
  {
   "cell_type": "code",
   "execution_count": 14,
   "id": "a5375ae7",
   "metadata": {},
   "outputs": [],
   "source": [
    "for i,page in enumerate(doc):\n",
    "     ## process text\\n\",\n",
    "        text=page.get_text()\n",
    "        if text.strip():\n",
    "     ##create temporary document for splitting\n",
    "            temp_doc = Document(page_content=text, metadata={\"page\": i, \"type\": \"text\"})\n",
    "            text_chunks = splitter.split_documents([temp_doc])\n",
    "      #Embed each chunk using CLIP\\n\",\n",
    "        for chunk in text_chunks:\n",
    "            embedding = embed_text(chunk.page_content)\n",
    "            all_embeddings.append(embedding)\n",
    "            all_docs.append(chunk)"
   ]
  },
  {
   "cell_type": "code",
   "execution_count": 15,
   "id": "e24f6c48",
   "metadata": {},
   "outputs": [],
   "source": [
    "## process images\n",
    "     ##Three Important Actions:\n",
    "##Convert PDF image to PIL format\n",
    "##Store as base64 for GPT-4V (which needs base64 images)\n",
    "##Create CLIP embedding for retrieval\n",
    "for img_index, img in enumerate(page.get_images(full=True)):\n",
    "    try:\n",
    "                xref = img[0]\n",
    "                base_image = doc.extract_image(xref)\n",
    "                image_bytes = base_image[\"image\"]\n",
    "                # Convert to PIL Image\\n\",\n",
    "                pil_image = Image.open(io.BytesIO(image_bytes)).convert(\"RGB\")\n",
    "                # Create unique identifier\\n\",\n",
    "                image_id = f\"page_{i}_img_{img_index}\"\n",
    "                # Store image as base64 for later use with GPT-4V\\n\",\n",
    "                buffered = io.BytesIO()\n",
    "                pil_image.save(buffered, format=\"PNG\")\n",
    "                img_base64 = base64.b64encode(buffered.getvalue()).decode()\n",
    "                image_data_store[image_id] = img_base64\n",
    "                # Embed image using CLIP\\n\",\n",
    "                embedding = embed_image(pil_image)\n",
    "                all_embeddings.append(embedding)\n",
    "                # Create document for image\\n\",\n",
    "                image_doc = Document(\n",
    "                    page_content=f\"[Image: {image_id}]\",\n",
    "                    metadata={\"page\": i, \"type\": \"image\", \"image_id\": image_id}\n",
    "                )\n",
    "                all_docs.append(image_doc)\n",
    "    except Exception as e:\n",
    "                print(f\"Error processing image {img_index} on page {i}: {e}\")\n",
    "                continue\n",
    "    doc.close()"
   ]
  },
  {
   "cell_type": "code",
   "execution_count": 16,
   "id": "7eb78c2d",
   "metadata": {},
   "outputs": [
    {
     "data": {
      "text/plain": [
       "array([[-0.00267244,  0.01282999, -0.0518314 , ..., -0.00385086,\n",
       "         0.02977718, -0.00010685],\n",
       "       [ 0.01732337, -0.01327688, -0.02427033, ...,  0.08994051,\n",
       "        -0.00272155,  0.03253039]], shape=(2, 512), dtype=float32)"
      ]
     },
     "execution_count": 16,
     "metadata": {},
     "output_type": "execute_result"
    }
   ],
   "source": [
    "# Create unified FAISS vector store with CLIP embeddings\n",
    "embeddings_array = np.array(all_embeddings)\n",
    "embeddings_array"
   ]
  },
  {
   "cell_type": "code",
   "execution_count": 18,
   "id": "699d3468",
   "metadata": {},
   "outputs": [
    {
     "name": "stderr",
     "output_type": "stream",
     "text": [
      "`embedding_function` is expected to be an Embeddings object, support for passing in a function will soon be removed.\n"
     ]
    },
    {
     "data": {
      "text/plain": [
       "<langchain_community.vectorstores.faiss.FAISS at 0x16eb49d7470>"
      ]
     },
     "execution_count": 18,
     "metadata": {},
     "output_type": "execute_result"
    }
   ],
   "source": [
    "# Create custom FAISS index since we have precomputed embeddings\\n\",\n",
    "vector_store = FAISS.from_embeddings(\n",
    "        text_embeddings=[(doc.page_content, emb) for doc, emb in zip(all_docs, embeddings_array)],\n",
    "        embedding=None,  # We're using precomputed embeddings\\n\",\n",
    "        metadatas=[doc.metadata for doc in all_docs]\n",
    ")\n",
    "vector_store"
   ]
  },
  {
   "cell_type": "code",
   "execution_count": 19,
   "id": "80547894",
   "metadata": {},
   "outputs": [
    {
     "data": {
      "text/plain": [
       "ChatOpenAI(client=<openai.resources.chat.completions.completions.Completions object at 0x0000016EDA3E0BC0>, async_client=<openai.resources.chat.completions.completions.AsyncCompletions object at 0x0000016EDA37D340>, root_client=<openai.OpenAI object at 0x0000016EB49B0410>, root_async_client=<openai.AsyncOpenAI object at 0x0000016EB5BF92B0>, model_name='gpt-4.1', model_kwargs={}, openai_api_key=SecretStr('**********'))"
      ]
     },
     "execution_count": 19,
     "metadata": {},
     "output_type": "execute_result"
    }
   ],
   "source": [
    "llm = init_chat_model(\"openai:gpt-4.1\")\n",
    "llm"
   ]
  },
  {
   "cell_type": "code",
   "execution_count": 24,
   "id": "2c36a9a2",
   "metadata": {},
   "outputs": [],
   "source": [
    "def retrieve_multimodal(query, k=5):\n",
    "    \"\"\"Unified retrieval using CLIP embeddings for both text and images.\"\"\"\n",
    "    # Embed query using CLIP\n",
    "    query_embedding = embed_text(query)\n",
    "    # Search in unified vector store\\n\",\n",
    "    results = vector_store.similarity_search_by_vector(\n",
    "           embedding=query_embedding,\n",
    "           k=k\n",
    "      )\n",
    "    return results"
   ]
  },
  {
   "cell_type": "code",
   "execution_count": 31,
   "id": "bfb8e683",
   "metadata": {},
   "outputs": [],
   "source": [
    "def create_multimodal_message(query, retrieved_docs):\n",
    "       \"\"\"Create a message with both text and images for GPT-4V\"\"\"\n",
    "       content = []\n",
    "       # Add the query\n",
    "       content.append({\n",
    "            \"type\": \"text\",\n",
    "            \"text\": f\"Question: {query} Context:\",\n",
    "        })\n",
    "       # Separate text and image documents\\n\",\n",
    "       text_docs = [doc for doc in retrieved_docs if doc.metadata.get(\"type\") == \"text\"]\n",
    "       image_docs = [doc for doc in retrieved_docs if doc.metadata.get(\"type\") == \"image\"]\n",
    "        # Add text context\\n\",\n",
    "       if text_docs:\n",
    "           text_context = \"\\n\\n\".join([\n",
    "                f\"[Page {doc.metadata['page']}]: {doc.page_content}\"\n",
    "                for doc in text_docs\n",
    "            ])\n",
    "           content.append({\n",
    "                \"type\": \"text\",\n",
    "                \"text\": f\"Text excerpts:{text_context}\"\n",
    "            })\n",
    "        # Add images\\n\",\n",
    "       for doc in image_docs:\n",
    "            image_id = doc.metadata.get(\"image_id\")\n",
    "            if image_id and image_id in image_data_store:\n",
    "                content.append({\n",
    "                    \"type\": \"text\",\n",
    "                    \"text\": f\"[Image from page {doc.metadata['page']}]:\"\n",
    "                })\n",
    "                content.append({\n",
    "                    \"type\": \"image_url\",\n",
    "                    \"image_url\": {\n",
    "                        \"url\": f\"data:image/png;base64,{image_data_store[image_id]}\"\n",
    "                    }\n",
    "                })\n",
    "        \n",
    "        # Add instruction\\n\",\n",
    "       content.append({\n",
    "            \"type\": \"text\",\n",
    "            \"text\": \"Please answer the question based on the provided text and images\"\n",
    "        })\n",
    "       return HumanMessage(content=content)"
   ]
  },
  {
   "cell_type": "code",
   "execution_count": 34,
   "id": "f25fd33d",
   "metadata": {},
   "outputs": [],
   "source": [
    "def multimodal_pdf_rag_pipeline(query):\n",
    "        \"\"\"Main pipeline for multimodal RAG.\"\"\"\n",
    "        # Retrieve relevant documents\n",
    "        context_docs = retrieve_multimodal(query, k=5)\n",
    "        # Create multimodal message\\n\",\n",
    "        message = create_multimodal_message(query, context_docs)\n",
    "        # Get response from GPT-4V\\n\",\n",
    "        response = llm.invoke([message])\n",
    "        # Print retrieved context info\\n\",\n",
    "        print(f\"Retrieved {len(context_docs)} documents:\")\n",
    "        for doc in context_docs:\n",
    "            doc_type = doc.metadata.get(\"type\", \"unknown\")\n",
    "            page = doc.metadata.get(\"page\", \"?\")\n",
    "            if doc_type == \"text\":\n",
    "                preview = doc.page_content[:100] + \"...\" if len(doc.page_content) > 100 else doc.page_content\n",
    "                print(f\"  - Text from page {page}: {preview}\")\n",
    "            else:\n",
    "                print(f\"  - Image from page {page}\")\n",
    "        print(\"\\n\")\n",
    "        return response.content"
   ]
  },
  {
   "cell_type": "code",
   "execution_count": 36,
   "id": "2646793d",
   "metadata": {},
   "outputs": [
    {
     "name": "stdout",
     "output_type": "stream",
     "text": [
      "Query: What does the chart on page 1 show about revenue trends?Summarize the main findings from the documentWhat visual elements are present in the document?\n",
      "--------------------------------------------------\n",
      "Retrieved 2 documents:\n",
      "  - Text from page 0: Annual Revenue Overview\n",
      "This document summarizes the revenue trends across Q1, Q2, and Q3. As illust...\n",
      "  - Image from page 0\n",
      "\n",
      "\n",
      "Answer: **Chart Analysis (Page 1):**  \n",
      "The chart on page 1 shows a clear upward trend in revenue over three periods (Q1, Q2, and Q3). Each bar is higher than the previous one, with Q3 having the highest revenue.\n",
      "\n",
      "**Main Findings from the Document:**\n",
      "- **Q1:** Revenue increased moderately, attributed to the introduction of new product lines.\n",
      "- **Q2:** Revenue further increased, outperforming Q1 due to effective marketing campaigns.\n",
      "- **Q3:** Revenue grew exponentially, driven by global expansion efforts.\n",
      "- Overall, the main finding is that revenue increased each quarter, with the most substantial growth recorded in Q3.\n",
      "\n",
      "**Visual Elements in the Document:**\n",
      "- The document includes a bar chart with three bars:\n",
      "  - **Blue bar:** Represents Q1 (shortest bar, lowest revenue)\n",
      "  - **Green bar:** Represents Q2 (medium height)\n",
      "  - **Red bar:** Represents Q3 (tallest bar, highest revenue)\n",
      "- The chart visually emphasizes the growing trend in revenue from Q1 to Q3.\n",
      "\n",
      "**Summary:**  \n",
      "The chart and content together illustrate a steady and accelerating increase in revenue over three quarters, with the most significant jump occurring in Q3 due to global expansion initiatives. The visual elements (color-coded bars) make the upward trend easy to identify.\n",
      "======================================================================\n"
     ]
    }
   ],
   "source": [
    "if __name__ == \"__main__\":\n",
    "    # Example queries\\n\",\n",
    "    queries = [\n",
    "        \"What does the chart on page 1 show about revenue trends?\"\n",
    "        \"Summarize the main findings from the document\"\n",
    "        \"What visual elements are present in the document?\"\n",
    "    ]\n",
    "    for query in queries:\n",
    "            print(f\"Query: {query}\")\n",
    "            print(\"-\" * 50)\n",
    "            answer = multimodal_pdf_rag_pipeline(query)\n",
    "            print(f\"Answer: {answer}\")\n",
    "            print(\"=\" * 70)"
   ]
  }
 ],
 "metadata": {
  "kernelspec": {
   "display_name": "RAG udemy",
   "language": "python",
   "name": "python3"
  },
  "language_info": {
   "codemirror_mode": {
    "name": "ipython",
    "version": 3
   },
   "file_extension": ".py",
   "mimetype": "text/x-python",
   "name": "python",
   "nbconvert_exporter": "python",
   "pygments_lexer": "ipython3",
   "version": "3.12.0"
  }
 },
 "nbformat": 4,
 "nbformat_minor": 5
}
