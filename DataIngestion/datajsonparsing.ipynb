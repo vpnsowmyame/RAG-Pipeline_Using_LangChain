{
 "cells": [
  {
   "cell_type": "code",
   "execution_count": 1,
   "id": "117e75e4",
   "metadata": {},
   "outputs": [],
   "source": [
    "import json\n",
    "import os\n",
    "os.makedirs(\"data/json_files\",exist_ok=True)"
   ]
  },
  {
   "cell_type": "code",
   "execution_count": 6,
   "id": "1ad6812a",
   "metadata": {},
   "outputs": [],
   "source": [
    "json_data = {\n",
    "    \"company\": \"TechCorp\",\n",
    "    \"employees\": [\n",
    "        {\n",
    "            \"id\": 1,\n",
    "            \"name\": \"John Doe\",\n",
    "            \"role\": \"Software Engineer\",\n",
    "            \"skills\": [\"Python\", \"JavaScript\", \"React\"],\n",
    "            \"projects\": [\n",
    "                {\"name\": \"RAG System\", \"status\": \"In Progress\"},\n",
    "                {\"name\": \"Data Pipeline\", \"status\": \"Completed\"}\n",
    "            ]\n",
    "        }, # The comma is now correctly placed to separate the two employee dictionaries\n",
    "        {\n",
    "            \"id\": 2,\n",
    "            \"name\": \"Jane Smith\",\n",
    "            \"role\": \"Data Scientist\",\n",
    "            \"skills\": [\"Python\", \"Machine Learning\", \"SQL\"],\n",
    "            \"projects\": [\n",
    "                {\"name\": \"ML Model\", \"status\": \"In Progress\"},\n",
    "                {\"name\": \"Analytics Dashboard\", \"status\": \"Planning\"}\n",
    "            ]\n",
    "        }\n",
    "    ],\n",
    "    \"departments\": {\n",
    "        \"engineering\": {\n",
    "            \"head\": \"Mike Johnson\",\n",
    "            \"budget\": 1000000,\n",
    "            \"team_size\": 25\n",
    "        },\n",
    "        \"data_science\": {\n",
    "            \"head\": \"Sarah Williams\",\n",
    "            \"budget\": 750000,\n",
    "            \"team_size\": 15\n",
    "        }\n",
    "    }\n",
    "}"
   ]
  },
  {
   "cell_type": "code",
   "execution_count": 7,
   "id": "6b8799fd",
   "metadata": {},
   "outputs": [],
   "source": [
    "with open('data/json_files/company_data.json', 'w') as f:\n",
    "    json.dump(json_data, f, indent=2)"
   ]
  },
  {
   "cell_type": "code",
   "execution_count": 9,
   "id": "119564ff",
   "metadata": {},
   "outputs": [],
   "source": [
    "# Save JSON Lines format\n",
    "jsonl_data = [\n",
    "    {\"timestamp\": \"2024-01-01\", \"event\": \"user_login\", \"user_id\": 123},\n",
    "    {\"timestamp\": \"2024-01-01\", \"event\": \"page_view\", \"user_id\": 123, \"page\": \"/home\"},\n",
    "    {\"timestamp\": \"2024-01-01\", \"event\": \"purchase\", \"user_id\": 123, \"amount\": 99.99}\n",
    "]\n",
    "\n",
    "with open('data/json_files/events.jsonl', 'w') as f:\n",
    "    for item in jsonl_data:\n",
    "        f.write(json.dumps(item) + '\\n')\n"
   ]
  },
  {
   "cell_type": "code",
   "execution_count": 11,
   "id": "3a785171",
   "metadata": {},
   "outputs": [
    {
     "name": "stdout",
     "output_type": "stream",
     "text": [
      "1️⃣ JSONLoader - Extract specific fields\n",
      "Loaded 2 employee documents\n",
      "First employee: {\"id\": 1, \"name\": \"John Doe\", \"role\": \"Software Engineer\", \"skills\": [\"Python\", \"JavaScript\", \"React\"], \"projects\": [{\"name\": \"RAG System\", \"status\": \"In Progress\"}, {\"name\": \"Data Pipeline\", \"status\"...\n",
      "[Document(metadata={'source': 'C:\\\\Users\\\\Win 11\\\\Desktop\\\\RAG udemy\\\\DataIngestion\\\\data\\\\json_files\\\\company_data.json', 'seq_num': 1}, page_content='{\"id\": 1, \"name\": \"John Doe\", \"role\": \"Software Engineer\", \"skills\": [\"Python\", \"JavaScript\", \"React\"], \"projects\": [{\"name\": \"RAG System\", \"status\": \"In Progress\"}, {\"name\": \"Data Pipeline\", \"status\": \"Completed\"}]}'), Document(metadata={'source': 'C:\\\\Users\\\\Win 11\\\\Desktop\\\\RAG udemy\\\\DataIngestion\\\\data\\\\json_files\\\\company_data.json', 'seq_num': 2}, page_content='{\"id\": 2, \"name\": \"Jane Smith\", \"role\": \"Data Scientist\", \"skills\": [\"Python\", \"Machine Learning\", \"SQL\"], \"projects\": [{\"name\": \"ML Model\", \"status\": \"In Progress\"}, {\"name\": \"Analytics Dashboard\", \"status\": \"Planning\"}]}')]\n"
     ]
    }
   ],
   "source": [
    "from langchain_community.document_loaders import JSONLoader\n",
    "import json\n",
    "## MEthod1 : JsonLoader With jq_schema\n",
    "print(\"1️⃣ JSONLoader - Extract specific fields\")\n",
    "\n",
    "# Extract employee information\n",
    "employee_loader = JSONLoader(\n",
    "    file_path='data/json_files/company_data.json',\n",
    "    jq_schema='.employees[]',  # jq query to extract each employee\n",
    "    text_content=False  # Get full JSON objects\n",
    ")\n",
    "\n",
    "employee_docs = employee_loader.load()\n",
    "print(f\"Loaded {len(employee_docs)} employee documents\")\n",
    "print(f\"First employee: {employee_docs[0].page_content[:200]}...\")\n",
    "print(employee_docs)\n"
   ]
  },
  {
   "cell_type": "code",
   "execution_count": 12,
   "id": "136f8268",
   "metadata": {},
   "outputs": [
    {
     "name": "stdout",
     "output_type": "stream",
     "text": [
      "\n",
      "2️⃣ Custom JSON Processing\n"
     ]
    }
   ],
   "source": [
    " #Method 2: Custom JSON processing for complex structures\n",
    "from typing import List\n",
    "from langchain_core.documents import Document\n",
    "\n",
    "print(\"\\n2️⃣ Custom JSON Processing\")\n",
    "\n",
    "def process_json_intelligently(filepath: str) -> List[Document]:\n",
    "    \"\"\"Process JSON with intelligent flattening and context preservation\"\"\"\n",
    "    with open(filepath, 'r') as f:\n",
    "        data = json.load(f)\n",
    "\n",
    "    documents = []\n",
    "\n",
    "    # Strategy 1: Create documents for each employee with full context\n",
    "    for emp in data.get('employees', []):\n",
    "        content = f\"\"\"Employee Profile:\n",
    "        Name: {emp['name']}\n",
    "        Role: {emp['role']}\n",
    "        Skills: {', '.join(emp['skills'])}\n",
    "        Projects:\"\"\"\n",
    "\n",
    "        for proj in emp.get('projects', []):\n",
    "            content += f\"\\n- {proj['name']} (Status: {proj['status']})\"\n",
    "        content += \"\\n\\\"\\\"\\\"\"\n",
    "\n",
    "        doc = Document(\n",
    "            page_content=content,\n",
    "            metadata={\n",
    "                'source': filepath,\n",
    "                'data_type': 'employee_profile',\n",
    "                'employee_id': emp['id'],\n",
    "                'employee_name': emp['name'],\n",
    "                'role': emp['role']\n",
    "            }\n",
    "        )\n",
    "        documents.append(doc)\n",
    "    return documents\n"
   ]
  },
  {
   "cell_type": "code",
   "execution_count": 13,
   "id": "3fdd008d",
   "metadata": {},
   "outputs": [
    {
     "data": {
      "text/plain": [
       "[Document(metadata={'source': 'data/json_files/company_data.json', 'data_type': 'employee_profile', 'employee_id': 1, 'employee_name': 'John Doe', 'role': 'Software Engineer'}, page_content='Employee Profile:\\n        Name: John Doe\\n        Role: Software Engineer\\n        Skills: Python, JavaScript, React\\n        Projects:\\n- RAG System (Status: In Progress)\\n- Data Pipeline (Status: Completed)\\n\"\"\"'),\n",
       " Document(metadata={'source': 'data/json_files/company_data.json', 'data_type': 'employee_profile', 'employee_id': 2, 'employee_name': 'Jane Smith', 'role': 'Data Scientist'}, page_content='Employee Profile:\\n        Name: Jane Smith\\n        Role: Data Scientist\\n        Skills: Python, Machine Learning, SQL\\n        Projects:\\n- ML Model (Status: In Progress)\\n- Analytics Dashboard (Status: Planning)\\n\"\"\"')]"
      ]
     },
     "execution_count": 13,
     "metadata": {},
     "output_type": "execute_result"
    }
   ],
   "source": [
    "process_json_intelligently(\"data/json_files/company_data.json\")"
   ]
  }
 ],
 "metadata": {
  "kernelspec": {
   "display_name": "RAG udemy",
   "language": "python",
   "name": "python3"
  },
  "language_info": {
   "codemirror_mode": {
    "name": "ipython",
    "version": 3
   },
   "file_extension": ".py",
   "mimetype": "text/x-python",
   "name": "python",
   "nbconvert_exporter": "python",
   "pygments_lexer": "ipython3",
   "version": "3.12.0"
  }
 },
 "nbformat": 4,
 "nbformat_minor": 5
}
