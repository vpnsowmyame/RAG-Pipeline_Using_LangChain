{
 "cells": [
  {
   "cell_type": "code",
   "execution_count": 1,
   "id": "9c8c1f74",
   "metadata": {},
   "outputs": [],
   "source": [
    "import pandas as pd\n",
    "import os"
   ]
  },
  {
   "cell_type": "code",
   "execution_count": 2,
   "id": "e78b6208",
   "metadata": {},
   "outputs": [],
   "source": [
    "os.makedirs(\"data/structured_files\", exist_ok=True)"
   ]
  },
  {
   "cell_type": "code",
   "execution_count": 5,
   "id": "36d6b24a",
   "metadata": {},
   "outputs": [],
   "source": [
    "# Create sample data\\n\",\n",
    "data = {\n",
    "        'Product': ['Laptop', 'Mouse', 'Keyboard', 'Monitor', 'Webcam'],\n",
    "        'Category': ['Electronics', 'Accessories', 'Accessories', 'Electronics', 'Electronics'],\n",
    "        'Price': [999.99, 29.99, 79.99, 299.99, 89.99],\n",
    "        'Stock': [50, 200, 150, 75, 100],\n",
    "        'Description': [\n",
    "            'High-performance laptop with 16GB RAM and 512GB SSD',\n",
    "            'Wireless optical mouse with ergonomic design',\n",
    "            'Mechanical keyboard with RGB backlighting',\n",
    "            '27-inch 4K monitor with HDR support',\n",
    "            '1080p webcam with noise cancellation',\n",
    "        ]\n",
    "    }\n",
    "    # Save as CSV\n",
    "df = pd.DataFrame(data)\n",
    "df.to_csv('data/structured_files/products.csv', index=False)\n"
   ]
  },
  {
   "cell_type": "code",
   "execution_count": 8,
   "id": "7ab20f39",
   "metadata": {},
   "outputs": [],
   "source": [
    "# Save as Excel with multiple sheets\n",
    "with pd.ExcelWriter('data/structured_files/inventory.xlsx') as writer:\n",
    "        df.to_excel(writer, sheet_name='Products', index=False)\n",
    "        # Add another sheet\n",
    "        summary_data = {\n",
    "            'Category': ['Electronics', 'Accessories'],\n",
    "            'Total_Items': [3, 2],\n",
    "            'Total_Value': [1389.97, 109.98]\n",
    "        }\n",
    "pd.DataFrame(summary_data).to_excel(writer, sheet_name='Summary', index=False)"
   ]
  },
  {
   "cell_type": "code",
   "execution_count": 9,
   "id": "21fd04b5",
   "metadata": {},
   "outputs": [],
   "source": [
    "from langchain_community.document_loaders import CSVLoader\n",
    "from langchain_community.document_loaders import UnstructuredCSVLoader"
   ]
  },
  {
   "cell_type": "code",
   "execution_count": 12,
   "id": "65843a9f",
   "metadata": {},
   "outputs": [
    {
     "name": "stdout",
     "output_type": "stream",
     "text": [
      "CSVLoader - Row-based Documents\n",
      "[Document(metadata={'source': 'data/structured_files/products.csv', 'row': 0}, page_content='Product: Laptop\\nCategory: Electronics\\nPrice: 999.99\\nStock: 50\\nDescription: High-performance laptop with 16GB RAM and 512GB SSD'), Document(metadata={'source': 'data/structured_files/products.csv', 'row': 1}, page_content='Product: Mouse\\nCategory: Accessories\\nPrice: 29.99\\nStock: 200\\nDescription: Wireless optical mouse with ergonomic design'), Document(metadata={'source': 'data/structured_files/products.csv', 'row': 2}, page_content='Product: Keyboard\\nCategory: Accessories\\nPrice: 79.99\\nStock: 150\\nDescription: Mechanical keyboard with RGB backlighting'), Document(metadata={'source': 'data/structured_files/products.csv', 'row': 3}, page_content='Product: Monitor\\nCategory: Electronics\\nPrice: 299.99\\nStock: 75\\nDescription: 27-inch 4K monitor with HDR support'), Document(metadata={'source': 'data/structured_files/products.csv', 'row': 4}, page_content='Product: Webcam\\nCategory: Electronics\\nPrice: 89.99\\nStock: 100\\nDescription: 1080p webcam with noise cancellation')]\n",
      "Loaded 5 documents (one per row)\n",
      "First document:\n",
      "Content: Product: Laptop\n",
      "Category: Electronics\n",
      "Price: 999.99\n",
      "Stock: 50\n",
      "Description: High-performance laptop with 16GB RAM and 512GB SSD\n",
      "Metadata: {'source': 'data/structured_files/products.csv', 'row': 0}\n"
     ]
    }
   ],
   "source": [
    "# Method 1: CSVLoader - Each row becomes a document\n",
    "print(\"CSVLoader - Row-based Documents\")\n",
    "csv_loader = CSVLoader(\n",
    "        file_path='data/structured_files/products.csv',\n",
    "        encoding='utf-8',\n",
    "        csv_args={\n",
    "            'delimiter': ',',\n",
    "            'quotechar': '\\\"',\n",
    "        }\n",
    "    )\n",
    "csv_docs = csv_loader.load()\n",
    "print(csv_docs)\n",
    "print(f\"Loaded {len(csv_docs)} documents (one per row)\"),\n",
    "print(\"First document:\")\n",
    "print(f\"Content: {csv_docs[0].page_content}\")\n",
    "print(f\"Metadata: {csv_docs[0].metadata}\")"
   ]
  },
  {
   "cell_type": "code",
   "execution_count": 20,
   "id": "06f09677",
   "metadata": {},
   "outputs": [
    {
     "name": "stdout",
     "output_type": "stream",
     "text": [
      "\n",
      "2️⃣ Custom CSV Processing\n"
     ]
    }
   ],
   "source": [
    "from typing import List\n",
    "from langchain_core.documents import Document\n",
    " # Method 2: Custom CSV processing for better control\n",
    "print(\"\\n2️⃣ Custom CSV Processing\")\n",
    "def process_csv_intelligently(filepath: str) -> List[Document]:\n",
    "    \"\"\"Process CSV with intelligent document creation\"\"\"\n",
    "    df = pd.read_csv(filepath)\n",
    "    documents = []\n",
    "    # Strategy 1: One document per row with structured content\\n\",\n",
    "    for idx, row in df.iterrows():\n",
    "            # Create structured content\\n\",\n",
    "            content = f\"\"\"Product Information:\n",
    "Name: {row['Product']}\n",
    "Category: {row['Category']}\n",
    "Price: ${row['Price']}\n",
    "Stock: {row['Stock']} units\n",
    "Description: {row['Description']}\"\"\"\n",
    "            # Create document with rich metadata\\n\",\n",
    "            doc = Document(\n",
    "                page_content=content,\n",
    "                metadata={\n",
    "                    'source': filepath,\n",
    "                    'row_index': idx,\n",
    "                    'product_name': row['Product'],\n",
    "                    'category': row['Category'],\n",
    "                    'price': row['Price'],\n",
    "                    'data_type': 'product_info'\n",
    "                }\n",
    "            )\n",
    "            documents.append(doc)\n",
    "    return documents\n"
   ]
  },
  {
   "cell_type": "code",
   "execution_count": 21,
   "id": "15457d8b",
   "metadata": {},
   "outputs": [
    {
     "data": {
      "text/plain": [
       "[Document(metadata={'source': 'data/structured_files/products.csv', 'row_index': 0, 'product_name': 'Laptop', 'category': 'Electronics', 'price': 999.99, 'data_type': 'product_info'}, page_content='Product Information:\\nName: Laptop\\nCategory: Electronics\\nPrice: $999.99\\nStock: 50 units\\nDescription: High-performance laptop with 16GB RAM and 512GB SSD'),\n",
       " Document(metadata={'source': 'data/structured_files/products.csv', 'row_index': 1, 'product_name': 'Mouse', 'category': 'Accessories', 'price': 29.99, 'data_type': 'product_info'}, page_content='Product Information:\\nName: Mouse\\nCategory: Accessories\\nPrice: $29.99\\nStock: 200 units\\nDescription: Wireless optical mouse with ergonomic design'),\n",
       " Document(metadata={'source': 'data/structured_files/products.csv', 'row_index': 2, 'product_name': 'Keyboard', 'category': 'Accessories', 'price': 79.99, 'data_type': 'product_info'}, page_content='Product Information:\\nName: Keyboard\\nCategory: Accessories\\nPrice: $79.99\\nStock: 150 units\\nDescription: Mechanical keyboard with RGB backlighting'),\n",
       " Document(metadata={'source': 'data/structured_files/products.csv', 'row_index': 3, 'product_name': 'Monitor', 'category': 'Electronics', 'price': 299.99, 'data_type': 'product_info'}, page_content='Product Information:\\nName: Monitor\\nCategory: Electronics\\nPrice: $299.99\\nStock: 75 units\\nDescription: 27-inch 4K monitor with HDR support'),\n",
       " Document(metadata={'source': 'data/structured_files/products.csv', 'row_index': 4, 'product_name': 'Webcam', 'category': 'Electronics', 'price': 89.99, 'data_type': 'product_info'}, page_content='Product Information:\\nName: Webcam\\nCategory: Electronics\\nPrice: $89.99\\nStock: 100 units\\nDescription: 1080p webcam with noise cancellation')]"
      ]
     },
     "execution_count": 21,
     "metadata": {},
     "output_type": "execute_result"
    }
   ],
   "source": [
    "process_csv_intelligently('data/structured_files/products.csv')"
   ]
  },
  {
   "cell_type": "code",
   "execution_count": 23,
   "id": "3ab35439",
   "metadata": {},
   "outputs": [
    {
     "name": "stdout",
     "output_type": "stream",
     "text": [
      "1️⃣ Pandas-based Excel Processing\n"
     ]
    }
   ],
   "source": [
    " # Method 1: Using pandas for full control\n",
    "print(\"1️⃣ Pandas-based Excel Processing\")\n",
    "def process_excel_with_pandas(filepath: str) -> List[Document]:\n",
    "    \"\"\"Process Excel with sheet awareness\"\"\"\n",
    "    documents = []\n",
    "\n",
    "    # Read all sheets\n",
    "    excel_file = pd.ExcelFile(filepath)\n",
    "\n",
    "    for sheet_name in excel_file.sheet_names:\n",
    "        df = pd.read_excel(filepath, sheet_name=sheet_name)\n",
    "\n",
    "        # Create document for each sheet\n",
    "        sheet_content = f\"Sheet: {sheet_name}\\n\"\n",
    "        sheet_content += f\"Columns: {', '.join(df.columns)}\\n\"\n",
    "        sheet_content += f\"Rows: {len(df)}\\n\\n\"\n",
    "        sheet_content += df.to_string(index=False)\n",
    "\n",
    "        doc = Document(\n",
    "            page_content=sheet_content,\n",
    "            metadata={\n",
    "                'source': filepath,\n",
    "                'sheet_name': sheet_name,\n",
    "                'num_rows': len(df),\n",
    "                'num_columns': len(df.columns),\n",
    "                'data_type': 'excel_sheet'\n",
    "            }\n",
    "        )\n",
    "        documents.append(doc)\n",
    "\n",
    "    return documents\n"
   ]
  },
  {
   "cell_type": "code",
   "execution_count": 24,
   "id": "7f382df5",
   "metadata": {},
   "outputs": [
    {
     "name": "stdout",
     "output_type": "stream",
     "text": [
      "Processed 1 sheets\n"
     ]
    }
   ],
   "source": [
    "excel_docs = process_excel_with_pandas('data/structured_files/inventory.xlsx')\n",
    "print(f\"Processed {len(excel_docs)} sheets\")\n"
   ]
  },
  {
   "cell_type": "code",
   "execution_count": 28,
   "id": "41412f23",
   "metadata": {},
   "outputs": [
    {
     "name": "stdout",
     "output_type": "stream",
     "text": [
      "2️⃣ UnstructuredExcelLoader\n"
     ]
    }
   ],
   "source": [
    "from langchain_community.document_loaders import UnstructuredExcelLoader\n",
    "\n",
    "print(\"2️⃣ UnstructuredExcelLoader\")\n",
    "try:\n",
    "    excel_loader = UnstructuredExcelLoader(\n",
    "        'data/structured_files/inventory.xlsx',\n",
    "        mode=\"elements\"\n",
    "    )\n",
    "    unstructured_docs = excel_loader.load()\n",
    "except Exception as e:\n",
    "    print(\"  ℹ️ Requires unstructured library with Excel support\")\n"
   ]
  }
 ],
 "metadata": {
  "kernelspec": {
   "display_name": "RAG udemy",
   "language": "python",
   "name": "python3"
  },
  "language_info": {
   "codemirror_mode": {
    "name": "ipython",
    "version": 3
   },
   "file_extension": ".py",
   "mimetype": "text/x-python",
   "name": "python",
   "nbconvert_exporter": "python",
   "pygments_lexer": "ipython3",
   "version": "3.12.0"
  }
 },
 "nbformat": 4,
 "nbformat_minor": 5
}
